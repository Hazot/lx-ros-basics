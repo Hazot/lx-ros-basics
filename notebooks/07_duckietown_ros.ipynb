{
 "cells": [
  {
   "cell_type": "markdown",
   "metadata": {},
   "source": [
    "# Duckietown and ROS\n",
    "\n",
    "In this notebook we will use what we have learned about ROS in the previous notebooks to start to control the duckiebot, either in simulation or on real hardware. "
   ]
  },
  {
   "cell_type": "markdown",
   "metadata": {},
   "source": [
    "## See what the Duckiebot Sees\n",
    "\n",
    "As before, launch the noVNC browser by running following command in the terminal **of your laptop** (not the terminal in VSCode!) except this time with the `--sim` argument:\n",
    "\n",
    "    dts code workbench --sim\n",
    "\n",
    "Note 1: You will need to stop the previous with CTRL-C and then execute this with the `--sim` option.\n",
    "Note 2: This may take some time to run the first time because it is downloaded the docker image of the Duckietown simulation environment. \n",
    "\n",
    "Once you open the noVNC browser, as before, you should see the same icons on the left hand side. Double-click on the one that says `RQT Image ...`, clicking on this opens the [rqt_image_view](https://wiki.ros.org/rqt_image_view) ROS utility.\n",
    "\n",
    "In the top left scroll down bar of the `rqt_image_view` window you should see only one option: `/agent/camera_node/image/compressed` if you select it you will see the output from the camera on the Duckiebot.\n",
    "\n",
    "![rqt_image_view](../assets/rqt_image_view.png)"
   ]
  },
  {
   "cell_type": "markdown",
   "metadata": {},
   "source": [
    "## Try out the Joystick\n",
    "\n",
    "You can also open the joystick by double clicking on the `Joystick` icon. You can try clicking on the directions or using the arrow keys on your keyboard. You should see the corresponding direction on the joystick turn green, but you won't see robot moving in the simulation (assuming you still have the `rqt_image_view` window open from the previous step).\n",
    "\n",
    "However, the joystick **is** doing something. To see what it is doing, open up a terminal by clicking on the `LXTerminal` icon as before. Execute the following command on the terminal:\n",
    "\n",
    "    rostopic echo /agent/joy\n",
    "\n",
    "The click back to the joystick window and start clicking on the directions and look closely at the output that is produced in the terminal. In particular, look at the `axes` part of the data that is produced. You should see one of the values changing (the position may change and the value may be either a `+1` or a `-1` depending on which direction you push).\n",
    "\n",
    "![joy_echo](../assets/joy_echo.png)\n",
    "\n",
    "Finally, do the following in the terminal\n",
    "\n",
    "    rostopic list\n",
    "\n",
    "to see all of the topics:\n",
    "\n",
    "```\n",
    "/agent/camera_node/camera_info\n",
    "/agent/camera_node/image/compressed\n",
    "/agent/coordinator_node/intersection_go\n",
    "/agent/episode_start\n",
    "/agent/joy\n",
    "/agent/led_emitter_node/led_pattern\n",
    "/agent/left_wheel_encoder_node/tick\n",
    "/agent/right_wheel_encoder_node/tick\n",
    "/agent/wheels_driver_node/emergency_stop\n",
    "/agent/wheels_driver_node/wheels_cmd\n",
    "/rosout\n",
    "/rosout_agg\n",
    "```\n",
    "\n",
    "we can see the topic `/agent/joy` and we know at least how that data is being published. This message is of type [Joy.msg](https://docs.ros.org/en/noetic/api/sensor_msgs/html/msg/Joy.html) (this is a standard datatype provided by ROS). The topic that we need to publish messages on to make the robot actually move is `/agent/wheels_driver_node/wheels_cmd`. This message is of type [WheelsCmdStamped.msg](https://github.com/duckietown/dt-ros-commons/blob/daffy/packages/duckietown_msgs/msg/WheelsCmdStamped.msg) (this is a message that we defined and is available to us because it is defined in an upstream Docker image).\n",
    "\n",
    "Our objective for the rest of this exercise will be create a ROS node to take the messages that are being published on the `/agent/joy` topic and use them to publish something to the `/agent/wheels_driver_node/wheels_cmd` topic so that the robot moves and we can control it with the joystick.  "
   ]
  },
  {
   "cell_type": "markdown",
   "metadata": {},
   "source": [
    "## Create a New Package\n",
    "\n",
    "Use the menu on the left of this notebook to open a new terminal (three lines -> Terminal -> New Terminal). In that terminal, navigate to the `packages` directory:\n",
    "\n",
    "    cd packages\n",
    "\n",
    "Once there we can proceed to create our package. Let's call it `dt-joystick-demo`. You can create it by executing the following code in your terminal\n",
    "\n",
    "    catkin_create_pkg dt-joystick-demo std_msgs sensor_msgs duckietown_msgs rospy\n",
    "\n",
    "You should see the output:\n",
    "\n",
    "```\n",
    "Created file dt-joystick-demo/package.xml\n",
    "Created file dt-joystick-demo/CMakeLists.txt\n",
    "Successfully created files in /code/lx-ros-basics/packages/dt-joystick-demo. Please adjust the values in package.xml.\n",
    "```\n",
    "\n",
    "let's enter into the `dt-joystick-demo` directory:\n",
    "\n",
    "    cd dt-joystick-demo\n",
    "\n",
    "then make a `src` dirctory:\n",
    "\n",
    "    mkdir src\n",
    "\n",
    "now enter that `src` directory:\n",
    "\n",
    "    cd src\n",
    "\n",
    "First we need to create the file `__init__.py`\n",
    "\n",
    "    touch __init__.py\n",
    "\n",
    "and then create a python file:\n",
    "\n",
    "    touch dt-joystick-demo-node.py\n",
    "\n",
    "and finally we need to make that file execuatable:\n",
    "\n",
    "    chmod +x dt-joystick-demo-node.py\n",
    "\n",
    "You should now be able to navigate to that file using the file directory on the left. Click on the file to open it (you may want to split screen using the button at the top right ). "
   ]
  },
  {
   "cell_type": "markdown",
   "metadata": {},
   "source": [
    "## Writing our ROS Node\n",
    "\n",
    "We need to start with some basics. First off we need the following at the top of the file:\n",
    "\n",
    "```\n",
    "#!/usr/bin/env python3\n",
    "```\n",
    "\n",
    "This tells the python interpreter that this is a python file. \n",
    "\n",
    "Next we will need to import some packages, these will by `rospy` and then the types of *messages* we will be using later.\n",
    "\n",
    "```\n",
    "import rospy\n",
    "from sensor_msgs.msg import Joy\n",
    "from duckietown_msgs.msg import WheelsCmdStamped\n",
    "```\n",
    "\n",
    "Now let's define our node. We can start with \n",
    "\n",
    "```\n",
    "def dt_joystick_node():\n",
    "```\n",
    "\n",
    "(and then everything after this will need to be indented)"
   ]
  }
 ],
 "metadata": {
  "kernelspec": {
   "display_name": "Python 3.8.10 64-bit",
   "language": "python",
   "name": "python3"
  },
  "language_info": {
   "name": "python",
   "version": "3.8.10"
  },
  "vscode": {
   "interpreter": {
    "hash": "916dbcbb3f70747c44a77c7bcd40155683ae19c65e1c03b4aa3499c5328201f1"
   }
  }
 },
 "nbformat": 4,
 "nbformat_minor": 2
}
